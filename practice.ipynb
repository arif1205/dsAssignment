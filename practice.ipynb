{
 "cells": [
  {
   "cell_type": "code",
   "execution_count": 34,
   "id": "bbf5697b",
   "metadata": {},
   "outputs": [
    {
     "name": "stdout",
     "output_type": "stream",
     "text": [
      "5\n",
      "[4 6]\n",
      "27\n",
      "[5, 6, 7, 5, 6, 7, 5, 6, 7, 5, 6, 7, 5, 6, 7, 5, 6, 7, 5, 6, 7]\n"
     ]
    },
    {
     "data": {
      "text/plain": [
       "2.1540659228538015"
      ]
     },
     "execution_count": 34,
     "metadata": {},
     "output_type": "execute_result"
    }
   ],
   "source": [
    "import numpy as np\n",
    "\n",
    "arr = np.array([2, 4, 6, 8, 7])\n",
    "a = [5, 6]\n",
    "print(len(arr))\n",
    "print(arr[1:3])\n",
    "print(arr.sum())\n",
    "a.append(7)\n",
    "print(7*a)\n",
    "arr.std()\n",
    "# np.mean(arr)"
   ]
  },
  {
   "cell_type": "code",
   "execution_count": 11,
   "id": "793599bd",
   "metadata": {},
   "outputs": [
    {
     "data": {
      "text/plain": [
       "(25, 125)"
      ]
     },
     "execution_count": 11,
     "metadata": {},
     "output_type": "execute_result"
    }
   ],
   "source": [
    "def sqr(x):\n",
    "  return x*x \n",
    "\n",
    "def cube(x):\n",
    "  return x*x*x \n",
    "\n",
    "(sqr(5),cube(5))"
   ]
  },
  {
   "cell_type": "code",
   "execution_count": 15,
   "id": "72aebc72",
   "metadata": {},
   "outputs": [
    {
     "data": {
      "text/plain": [
       "210"
      ]
     },
     "execution_count": 15,
     "metadata": {},
     "output_type": "execute_result"
    }
   ],
   "source": [
    "area = lambda x,y,z: x*y*z\n",
    "area(5,6,7)"
   ]
  },
  {
   "cell_type": "code",
   "execution_count": 21,
   "id": "63567b0f",
   "metadata": {},
   "outputs": [
    {
     "name": "stdout",
     "output_type": "stream",
     "text": [
      "[2, 4, 6]\n"
     ]
    }
   ],
   "source": [
    "def isPrime(x): \n",
    "  return x % 2 == 0 or False\n",
    "another = [i+1 for i in range(7) if isPrime(i+1)]\n",
    "print(another)"
   ]
  },
  {
   "cell_type": "code",
   "execution_count": 32,
   "id": "fd1ee3fe",
   "metadata": {},
   "outputs": [
    {
     "data": {
      "text/plain": [
       "array([2, 2, 2, 2, 2])"
      ]
     },
     "execution_count": 32,
     "metadata": {},
     "output_type": "execute_result"
    }
   ],
   "source": [
    "first = np.ones(5, dtype='int')\n",
    "sec = np.ones(5, dtype='int')\n",
    "first + sec "
   ]
  },
  {
   "cell_type": "code",
   "execution_count": 42,
   "id": "2f8a26fa",
   "metadata": {},
   "outputs": [
    {
     "name": "stdout",
     "output_type": "stream",
     "text": [
      "[[0.36210988 0.99719    0.24144438 0.49643633]\n",
      " [0.55963779 0.60844952 0.36300137 0.18640674]\n",
      " [0.78949016 0.5161901  0.92192692 0.8280738 ]\n",
      " [0.64747452 0.87329235 0.2298447  0.1409305 ]]\n",
      "[[0.55963779 0.60844952 0.36300137]\n",
      " [0.78949016 0.5161901  0.92192692]]\n"
     ]
    }
   ],
   "source": [
    "ex = np.random.random([4, 4])\n",
    "print(ex)\n",
    "print(ex[1:3, 0:3])"
   ]
  }
 ],
 "metadata": {
  "kernelspec": {
   "display_name": "Python 3",
   "language": "python",
   "name": "python3"
  },
  "language_info": {
   "codemirror_mode": {
    "name": "ipython",
    "version": 3
   },
   "file_extension": ".py",
   "mimetype": "text/x-python",
   "name": "python",
   "nbconvert_exporter": "python",
   "pygments_lexer": "ipython3",
   "version": "3.10.7"
  },
  "vscode": {
   "interpreter": {
    "hash": "0123c2618acd9b5a59e2095b4707a3a8c3a8c48cb16d25195a08410203618421"
   }
  }
 },
 "nbformat": 4,
 "nbformat_minor": 5
}
